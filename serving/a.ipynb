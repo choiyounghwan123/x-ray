{
 "cells": [
  {
   "cell_type": "code",
   "execution_count": 1,
   "id": "f8ad72a6",
   "metadata": {},
   "outputs": [],
   "source": [
    "import mlflow\n",
    "import os\n",
    "\n",
    "mlflow.set_tracking_uri(\"http://localhost:5000\")\n",
    "os.environ['AWS_ACCESS_KEY_ID'] = 'mlflow'  \n",
    "os.environ['AWS_SECRET_ACCESS_KEY'] = 'mlflowpass' \n",
    "\n",
    "os.environ['MLFLOW_S3_ENDPOINT_URL'] = 'http://localhost:10000'"
   ]
  },
  {
   "cell_type": "code",
   "execution_count": null,
   "id": "bdf04c1e",
   "metadata": {},
   "outputs": [],
   "source": []
  }
 ],
 "metadata": {
  "kernelspec": {
   "display_name": "Python (iris-mlops)",
   "language": "python",
   "name": "iris-mlops"
  },
  "language_info": {
   "codemirror_mode": {
    "name": "ipython",
    "version": 3
   },
   "file_extension": ".py",
   "mimetype": "text/x-python",
   "name": "python",
   "nbconvert_exporter": "python",
   "pygments_lexer": "ipython3",
   "version": "3.10.18"
  }
 },
 "nbformat": 4,
 "nbformat_minor": 5
}
